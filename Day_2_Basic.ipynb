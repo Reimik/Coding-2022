{
  "nbformat": 4,
  "nbformat_minor": 0,
  "metadata": {
    "colab": {
      "name": "Day 2 Basic.ipynb",
      "provenance": [],
      "authorship_tag": "ABX9TyOlgbq4Q82qcwsijOyqvyd+",
      "include_colab_link": true
    },
    "kernelspec": {
      "name": "python3",
      "display_name": "Python 3"
    },
    "language_info": {
      "name": "python"
    }
  },
  "cells": [
    {
      "cell_type": "markdown",
      "metadata": {
        "id": "view-in-github",
        "colab_type": "text"
      },
      "source": [
        "<a href=\"https://colab.research.google.com/github/Reimik/Coding-2022/blob/main/Day_2_Basic.ipynb\" target=\"_parent\"><img src=\"https://colab.research.google.com/assets/colab-badge.svg\" alt=\"Open In Colab\"/></a>"
      ]
    },
    {
      "cell_type": "markdown",
      "source": [
        "#Methods in Python"
      ],
      "metadata": {
        "id": "tTp8iK9ZM9w-"
      }
    },
    {
      "cell_type": "code",
      "source": [
        "school = \"cuny laguardia\"\n",
        "print(school.upper())\n",
        "print(school.lower())"
      ],
      "metadata": {
        "colab": {
          "base_uri": "https://localhost:8080/"
        },
        "id": "uxkd7HS9NMyQ",
        "outputId": "4a881f99-f04c-4261-83bc-d9fa0643065d"
      },
      "execution_count": 1,
      "outputs": [
        {
          "output_type": "stream",
          "name": "stdout",
          "text": [
            "CUNY LAGUARDIA\n",
            "cuny laguardia\n"
          ]
        }
      ]
    },
    {
      "cell_type": "code",
      "source": [
        "first_name = \"cuny\"\n",
        "last_name = \"laguardia\"\n",
        "full_name = first_name + \" \" + last_name\n",
        "print(full_name)"
      ],
      "metadata": {
        "colab": {
          "base_uri": "https://localhost:8080/"
        },
        "id": "AhonHeRlNY1Z",
        "outputId": "8a2c886c-40b1-4428-a302-6085c2718e6a"
      },
      "execution_count": 3,
      "outputs": [
        {
          "output_type": "stream",
          "name": "stdout",
          "text": [
            "cuny laguardia\n"
          ]
        }
      ]
    },
    {
      "cell_type": "code",
      "source": [
        "print(\"cuny\")\n",
        "print(\"\\tcuny\")"
      ],
      "metadata": {
        "colab": {
          "base_uri": "https://localhost:8080/"
        },
        "id": "12J6W_AyNvxa",
        "outputId": "c151d6ba-9460-44d6-a6a3-122564f9cb68"
      },
      "execution_count": 5,
      "outputs": [
        {
          "output_type": "stream",
          "name": "stdout",
          "text": [
            "cuny\n",
            "\tcuny\n"
          ]
        }
      ]
    },
    {
      "cell_type": "code",
      "source": [
        "print(\"cunny…\\nLaGuardia…\\nCommunity…\\nCollege\")"
      ],
      "metadata": {
        "colab": {
          "base_uri": "https://localhost:8080/"
        },
        "id": "mEEqwdGROKql",
        "outputId": "d95e8738-ee10-468d-8421-03258ba82fe0"
      },
      "execution_count": 6,
      "outputs": [
        {
          "output_type": "stream",
          "name": "stdout",
          "text": [
            "cunny…\n",
            "LaGuardia…\n",
            "Community…\n",
            "College\n"
          ]
        }
      ]
    },
    {
      "cell_type": "code",
      "source": [
        "extra_space = \"patient_Exam: ECG    \"\n",
        "extra_space"
      ],
      "metadata": {
        "colab": {
          "base_uri": "https://localhost:8080/",
          "height": 37
        },
        "id": "lMxdf4pbPKbq",
        "outputId": "eacf8513-a3ee-48a8-896e-73bde17978f8"
      },
      "execution_count": 9,
      "outputs": [
        {
          "output_type": "execute_result",
          "data": {
            "application/vnd.google.colaboratory.intrinsic+json": {
              "type": "string"
            },
            "text/plain": [
              "'patient_Exam: ECG    '"
            ]
          },
          "metadata": {},
          "execution_count": 9
        }
      ]
    },
    {
      "cell_type": "code",
      "source": [
        "extra_space.rstrip()"
      ],
      "metadata": {
        "colab": {
          "base_uri": "https://localhost:8080/",
          "height": 37
        },
        "id": "dUs_pK6OPR8X",
        "outputId": "16b8098b-f715-48e0-a28e-60234aa161e3"
      },
      "execution_count": 10,
      "outputs": [
        {
          "output_type": "execute_result",
          "data": {
            "application/vnd.google.colaboratory.intrinsic+json": {
              "type": "string"
            },
            "text/plain": [
              "'patient_Exam: ECG'"
            ]
          },
          "metadata": {},
          "execution_count": 10
        }
      ]
    },
    {
      "cell_type": "code",
      "source": [
        "2+2"
      ],
      "metadata": {
        "colab": {
          "base_uri": "https://localhost:8080/"
        },
        "id": "HDtTJ4rcPeXD",
        "outputId": "45edde68-474a-441b-b744-6b0351f847e0"
      },
      "execution_count": 11,
      "outputs": [
        {
          "output_type": "execute_result",
          "data": {
            "text/plain": [
              "4"
            ]
          },
          "metadata": {},
          "execution_count": 11
        }
      ]
    },
    {
      "cell_type": "code",
      "source": [
        "10/5"
      ],
      "metadata": {
        "colab": {
          "base_uri": "https://localhost:8080/"
        },
        "id": "_M_ylRLmQjS4",
        "outputId": "8a2e0551-eb85-45e6-db3b-29ed942922c1"
      },
      "execution_count": 12,
      "outputs": [
        {
          "output_type": "execute_result",
          "data": {
            "text/plain": [
              "2.0"
            ]
          },
          "metadata": {},
          "execution_count": 12
        }
      ]
    },
    {
      "cell_type": "code",
      "source": [
        "2**2"
      ],
      "metadata": {
        "colab": {
          "base_uri": "https://localhost:8080/"
        },
        "id": "raeOo6RSQkbb",
        "outputId": "7e405769-0112-4530-d8bf-855ca0849841"
      },
      "execution_count": 13,
      "outputs": [
        {
          "output_type": "execute_result",
          "data": {
            "text/plain": [
              "4"
            ]
          },
          "metadata": {},
          "execution_count": 13
        }
      ]
    },
    {
      "cell_type": "code",
      "source": [
        "2*2"
      ],
      "metadata": {
        "colab": {
          "base_uri": "https://localhost:8080/"
        },
        "id": "8TF0QhdVQmGB",
        "outputId": "3ce5178f-f174-4047-e6db-7e326e0d2094"
      },
      "execution_count": 14,
      "outputs": [
        {
          "output_type": "execute_result",
          "data": {
            "text/plain": [
              "4"
            ]
          },
          "metadata": {},
          "execution_count": 14
        }
      ]
    },
    {
      "cell_type": "code",
      "source": [
        "5-2"
      ],
      "metadata": {
        "colab": {
          "base_uri": "https://localhost:8080/"
        },
        "id": "iozJZKKtQnRb",
        "outputId": "87289d27-0f3d-400f-fb32-955502d36fb0"
      },
      "execution_count": 15,
      "outputs": [
        {
          "output_type": "execute_result",
          "data": {
            "text/plain": [
              "3"
            ]
          },
          "metadata": {},
          "execution_count": 15
        }
      ]
    },
    {
      "cell_type": "code",
      "source": [
        "2*5.3"
      ],
      "metadata": {
        "colab": {
          "base_uri": "https://localhost:8080/"
        },
        "id": "RYKgoUpjQomX",
        "outputId": "a440751a-2227-438c-dbee-c91011f666d3"
      },
      "execution_count": 16,
      "outputs": [
        {
          "output_type": "execute_result",
          "data": {
            "text/plain": [
              "10.6"
            ]
          },
          "metadata": {},
          "execution_count": 16
        }
      ]
    },
    {
      "cell_type": "code",
      "source": [
        "x=5\n",
        "x+x"
      ],
      "metadata": {
        "colab": {
          "base_uri": "https://localhost:8080/"
        },
        "id": "XEJrnw1CQzkY",
        "outputId": "9e538824-3db8-4a6f-f707-5ef60f044307"
      },
      "execution_count": 17,
      "outputs": [
        {
          "output_type": "execute_result",
          "data": {
            "text/plain": [
              "10"
            ]
          },
          "metadata": {},
          "execution_count": 17
        }
      ]
    },
    {
      "cell_type": "code",
      "source": [
        "x=5\n",
        "x*x"
      ],
      "metadata": {
        "colab": {
          "base_uri": "https://localhost:8080/"
        },
        "id": "Sa1wWdbcQ4_Y",
        "outputId": "8fc05f76-c260-4e7b-951a-c85f219ec0e8"
      },
      "execution_count": 19,
      "outputs": [
        {
          "output_type": "execute_result",
          "data": {
            "text/plain": [
              "25"
            ]
          },
          "metadata": {},
          "execution_count": 19
        }
      ]
    },
    {
      "cell_type": "code",
      "source": [
        "x=5\n",
        "x*x*x+x-x"
      ],
      "metadata": {
        "colab": {
          "base_uri": "https://localhost:8080/"
        },
        "id": "e-9Gsy33Q6qH",
        "outputId": "4ff91073-c64e-4c6c-b31a-774b5a0b0d86"
      },
      "execution_count": 20,
      "outputs": [
        {
          "output_type": "execute_result",
          "data": {
            "text/plain": [
              "125"
            ]
          },
          "metadata": {},
          "execution_count": 20
        }
      ]
    },
    {
      "cell_type": "markdown",
      "source": [
        "#List"
      ],
      "metadata": {
        "id": "adJHwliKRG8I"
      }
    },
    {
      "cell_type": "code",
      "source": [
        "movies=[\"star wars\", 'star trek', 'lord of the rings', 'avengers']\n",
        "print(movies)"
      ],
      "metadata": {
        "colab": {
          "base_uri": "https://localhost:8080/"
        },
        "id": "I_1ByBN3Rs7t",
        "outputId": "4061dd70-dd09-4e8d-ecaa-37641915a2db"
      },
      "execution_count": 21,
      "outputs": [
        {
          "output_type": "stream",
          "name": "stdout",
          "text": [
            "['star wars', 'star trek', 'lord of the rings', 'avengers']\n"
          ]
        }
      ]
    },
    {
      "cell_type": "code",
      "source": [
        "movies[0]"
      ],
      "metadata": {
        "colab": {
          "base_uri": "https://localhost:8080/",
          "height": 37
        },
        "id": "HlyoT-lxR5iY",
        "outputId": "d97110fd-bd5b-4c4d-d946-4cf9c9c10919"
      },
      "execution_count": 23,
      "outputs": [
        {
          "output_type": "execute_result",
          "data": {
            "application/vnd.google.colaboratory.intrinsic+json": {
              "type": "string"
            },
            "text/plain": [
              "'star wars'"
            ]
          },
          "metadata": {},
          "execution_count": 23
        }
      ]
    },
    {
      "cell_type": "code",
      "source": [
        "print(movies[0].title())"
      ],
      "metadata": {
        "colab": {
          "base_uri": "https://localhost:8080/"
        },
        "id": "aZ6ym7WbR9bC",
        "outputId": "58b43ebb-132a-44e9-d5ad-16374feaa1a1"
      },
      "execution_count": 25,
      "outputs": [
        {
          "output_type": "stream",
          "name": "stdout",
          "text": [
            "Star Wars\n"
          ]
        }
      ]
    },
    {
      "cell_type": "code",
      "source": [
        "print(movies[0].upper())"
      ],
      "metadata": {
        "colab": {
          "base_uri": "https://localhost:8080/"
        },
        "id": "LJupACPKSD_P",
        "outputId": "c21d1067-74b0-42e8-e967-7f2d702cba2a"
      },
      "execution_count": 26,
      "outputs": [
        {
          "output_type": "stream",
          "name": "stdout",
          "text": [
            "STAR WARS\n"
          ]
        }
      ]
    },
    {
      "cell_type": "code",
      "source": [
        "print(movies[3])"
      ],
      "metadata": {
        "colab": {
          "base_uri": "https://localhost:8080/"
        },
        "id": "Z3XbELhBSMvW",
        "outputId": "c5ad4167-0f29-4fdc-e46d-b53e66abf0d4"
      },
      "execution_count": 27,
      "outputs": [
        {
          "output_type": "stream",
          "name": "stdout",
          "text": [
            "avengers\n"
          ]
        }
      ]
    },
    {
      "cell_type": "code",
      "source": [
        "print(movies[2])"
      ],
      "metadata": {
        "colab": {
          "base_uri": "https://localhost:8080/"
        },
        "id": "Zfdvd7iGST5M",
        "outputId": "f45e3989-1585-404f-fb47-8f1fe1a28fbe"
      },
      "execution_count": 28,
      "outputs": [
        {
          "output_type": "stream",
          "name": "stdout",
          "text": [
            "lord of the rings\n"
          ]
        }
      ]
    },
    {
      "cell_type": "code",
      "source": [
        "print(movies[-1])"
      ],
      "metadata": {
        "colab": {
          "base_uri": "https://localhost:8080/"
        },
        "id": "ULWvigJCSX1H",
        "outputId": "274c0dd6-39dc-43e3-fc49-1c96b7e51460"
      },
      "execution_count": 29,
      "outputs": [
        {
          "output_type": "stream",
          "name": "stdout",
          "text": [
            "avengers\n"
          ]
        }
      ]
    },
    {
      "cell_type": "code",
      "source": [
        "message = \"My favorite movie is \" + movies[0].upper() + \"!!!\"\n",
        "print(message)"
      ],
      "metadata": {
        "colab": {
          "base_uri": "https://localhost:8080/"
        },
        "id": "UCxOioECSbFC",
        "outputId": "5ecc007e-6a82-445c-d860-c8d526848476"
      },
      "execution_count": 30,
      "outputs": [
        {
          "output_type": "stream",
          "name": "stdout",
          "text": [
            "My favorite movie is STAR WARS!!!\n"
          ]
        }
      ]
    },
    {
      "cell_type": "code",
      "source": [
        "movies[1] = \"the matrix\"\n",
        "print(movies)"
      ],
      "metadata": {
        "colab": {
          "base_uri": "https://localhost:8080/"
        },
        "id": "NC5MTNWXSsW7",
        "outputId": "ee4dd26d-15fe-429d-e6fa-80c87a8d0602"
      },
      "execution_count": 31,
      "outputs": [
        {
          "output_type": "stream",
          "name": "stdout",
          "text": [
            "['star wars', 'the matrix', 'lord of the rings', 'avengers']\n"
          ]
        }
      ]
    },
    {
      "cell_type": "code",
      "source": [
        "movies.append('ready player one')\n",
        "print(movies)"
      ],
      "metadata": {
        "colab": {
          "base_uri": "https://localhost:8080/"
        },
        "id": "I_lw3oqzS4HX",
        "outputId": "3c3d08e3-55e9-4058-abb5-ef6d20b06576"
      },
      "execution_count": 33,
      "outputs": [
        {
          "output_type": "stream",
          "name": "stdout",
          "text": [
            "['star wars', 'the matrix', 'lord of the rings', 'avengers', 'ready player one']\n"
          ]
        }
      ]
    },
    {
      "cell_type": "code",
      "source": [
        "movies.insert(0, \"lion king\")\n",
        "print(movies)"
      ],
      "metadata": {
        "colab": {
          "base_uri": "https://localhost:8080/"
        },
        "id": "rHotIQuPTJ0L",
        "outputId": "f8688432-83af-4576-a647-ebe1d17d2d44"
      },
      "execution_count": 34,
      "outputs": [
        {
          "output_type": "stream",
          "name": "stdout",
          "text": [
            "['lion king', 'star wars', 'the matrix', 'lord of the rings', 'avengers', 'ready player one']\n"
          ]
        }
      ]
    },
    {
      "cell_type": "code",
      "source": [
        "print(movies)\n",
        "del movies[0]\n",
        "print(movies)"
      ],
      "metadata": {
        "colab": {
          "base_uri": "https://localhost:8080/"
        },
        "id": "v3Alh45lTTcN",
        "outputId": "2551462a-2ba1-4248-e386-eb7523b7bcd2"
      },
      "execution_count": 37,
      "outputs": [
        {
          "output_type": "stream",
          "name": "stdout",
          "text": [
            "['the matrix', 'lord of the rings', 'avengers', 'ready player one']\n",
            "['lord of the rings', 'avengers', 'ready player one']\n"
          ]
        }
      ]
    },
    {
      "cell_type": "code",
      "source": [
        "print(movies)\n",
        "movies.remove('lord of the rings')\n",
        "print(movies)"
      ],
      "metadata": {
        "colab": {
          "base_uri": "https://localhost:8080/"
        },
        "id": "vMfn-6XGTduD",
        "outputId": "7518e48a-4998-43f0-c62c-43038cf7ae46"
      },
      "execution_count": 44,
      "outputs": [
        {
          "output_type": "stream",
          "name": "stdout",
          "text": [
            "['lord of the rings', 'avengers', 'ready player one']\n",
            "['avengers', 'ready player one']\n"
          ]
        }
      ]
    },
    {
      "cell_type": "code",
      "source": [
        "movies=[\"star wars\", 'star trek', 'lord of the rings', 'avengers']\n",
        "print(movies)"
      ],
      "metadata": {
        "colab": {
          "base_uri": "https://localhost:8080/"
        },
        "id": "_RmgSBDqTy0M",
        "outputId": "28406f26-bc8c-4227-d95f-f3f72f1ebc1c"
      },
      "execution_count": 45,
      "outputs": [
        {
          "output_type": "stream",
          "name": "stdout",
          "text": [
            "['star wars', 'star trek', 'lord of the rings', 'avengers']\n"
          ]
        }
      ]
    },
    {
      "cell_type": "code",
      "source": [
        "print(movies)\n",
        "movies.sort()\n",
        "print(movies)"
      ],
      "metadata": {
        "colab": {
          "base_uri": "https://localhost:8080/"
        },
        "id": "lDWPnkhxUgTl",
        "outputId": "d4d7d6af-ed35-4104-db6a-0edfd53f277f"
      },
      "execution_count": 46,
      "outputs": [
        {
          "output_type": "stream",
          "name": "stdout",
          "text": [
            "['star wars', 'star trek', 'lord of the rings', 'avengers']\n",
            "['avengers', 'lord of the rings', 'star trek', 'star wars']\n"
          ]
        }
      ]
    },
    {
      "cell_type": "code",
      "source": [
        "print(movies)\n",
        "movies.sort(reverse=True)\n",
        "print(movies)"
      ],
      "metadata": {
        "colab": {
          "base_uri": "https://localhost:8080/"
        },
        "id": "PeI1cTP1UkPa",
        "outputId": "c8acca65-de9b-4170-ed83-a9b9b4b48d28"
      },
      "execution_count": 48,
      "outputs": [
        {
          "output_type": "stream",
          "name": "stdout",
          "text": [
            "['avengers', 'lord of the rings', 'star trek', 'star wars']\n",
            "['star wars', 'star trek', 'lord of the rings', 'avengers']\n"
          ]
        }
      ]
    },
    {
      "cell_type": "code",
      "source": [
        "print (movies)\n",
        "len(movies)"
      ],
      "metadata": {
        "colab": {
          "base_uri": "https://localhost:8080/"
        },
        "id": "LLqibeaOUmYl",
        "outputId": "5aac6158-1601-46df-e871-3b1a24dcefe9"
      },
      "execution_count": 50,
      "outputs": [
        {
          "output_type": "stream",
          "name": "stdout",
          "text": [
            "['star wars', 'star trek', 'lord of the rings', 'avengers']\n"
          ]
        },
        {
          "output_type": "execute_result",
          "data": {
            "text/plain": [
              "4"
            ]
          },
          "metadata": {},
          "execution_count": 50
        }
      ]
    },
    {
      "cell_type": "code",
      "source": [
        "print(movies)\n",
        "print(sorted(movies))\n",
        "print(movies)"
      ],
      "metadata": {
        "colab": {
          "base_uri": "https://localhost:8080/"
        },
        "id": "hVfQAJFiUxTR",
        "outputId": "7b92e639-e7c5-49a1-db47-a60b209fe86d"
      },
      "execution_count": 51,
      "outputs": [
        {
          "output_type": "stream",
          "name": "stdout",
          "text": [
            "['star wars', 'star trek', 'lord of the rings', 'avengers']\n",
            "['avengers', 'lord of the rings', 'star trek', 'star wars']\n",
            "['star wars', 'star trek', 'lord of the rings', 'avengers']\n"
          ]
        }
      ]
    },
    {
      "cell_type": "code",
      "source": [
        ""
      ],
      "metadata": {
        "id": "48_WzyZ2U54g"
      },
      "execution_count": null,
      "outputs": []
    }
  ]
}